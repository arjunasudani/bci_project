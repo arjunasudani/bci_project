{
 "cells": [
  {
   "cell_type": "code",
   "execution_count": 1,
   "id": "92e46e33-2d9f-42c1-8864-e5c5ef99a30f",
   "metadata": {},
   "outputs": [],
   "source": [
    "from sklearn.model_selection import train_test_split\n",
    "import pandas as pd\n",
    "import numpy as np\n",
    "import seaborn as sns\n",
    "import matplotlib.pyplot as plt\n",
    "from sklearn.metrics import classification_report\n",
    "from sklearn.preprocessing import StandardScaler\n",
    "import warnings\n",
    "warnings.filterwarnings(action='ignore')\n",
    "%matplotlib inline"
   ]
  },
  {
   "cell_type": "code",
   "execution_count": 3,
   "id": "98444cc5-5718-48df-81c7-f47337a27ecc",
   "metadata": {},
   "outputs": [],
   "source": [
    "import tensorflow as tf\n",
    "from tensorflow.keras.utils import to_categorical\n",
    "from tensorflow.keras import layers\n",
    "import tensorflow as tf\n",
    "import gc\n",
    "gc.enable()"
   ]
  },
  {
   "cell_type": "code",
   "execution_count": 9,
   "id": "2e05351f-7327-47b5-8007-a232741e51bf",
   "metadata": {},
   "outputs": [
    {
     "name": "stdout",
     "output_type": "stream",
     "text": [
      "['user_e.csv', 'user_d.csv', 'user_a.csv', 'user_c.csv', 'user_b.csv', '.ipynb_checkpoints']\n"
     ]
    }
   ],
   "source": [
    "import os\n",
    "print(os.listdir('/Users/arjunasudani/Desktop/brain_bci_dsu_project/extracted_data/eeg'))\n"
   ]
  },
  {
   "cell_type": "code",
   "execution_count": 15,
   "id": "5b7a7e5b-45b0-4867-aaad-7abdf5d45720",
   "metadata": {},
   "outputs": [
    {
     "name": "stdout",
     "output_type": "stream",
     "text": [
      "   Values  POW.AF3.Theta  POW.AF3.Alpha  POW.AF3.BetaL  POW.AF3.BetaH  \\\n",
      "0     0.0     177.545120      44.201519      52.901443     111.848244   \n",
      "1     0.0     134.393936      36.722378      58.060577     138.923920   \n",
      "2     0.0     101.179245      32.584496      76.664604     157.986481   \n",
      "3     0.0      86.372566      32.843426     103.308090     163.523895   \n",
      "4     0.0      91.219887      38.426960     129.014969     155.117188   \n",
      "\n",
      "   POW.AF3.Gamma  POW.T7.Theta  POW.T7.Alpha  POW.T7.BetaL  POW.T7.BetaH  ...  \\\n",
      "0     118.630608    146.543518    112.673729     73.056519     93.528786  ...   \n",
      "1     143.085968    125.963150    112.438896     80.644882    114.150826  ...   \n",
      "2     169.948532    105.953514    106.995354     92.989960    127.571053  ...   \n",
      "3     192.913834     89.338104    100.264130    103.970276    130.280136  ...   \n",
      "4     207.057343     78.061356     97.215256    108.936523    122.467529  ...   \n",
      "\n",
      "   POW.T8.Theta  POW.T8.Alpha  POW.T8.BetaL  POW.T8.BetaH  POW.T8.Gamma  \\\n",
      "0     38.628365     47.619789     11.648185     20.013100     20.707560   \n",
      "1     35.050865     45.586174     14.261073     24.159969     24.586666   \n",
      "2     31.209900     42.397762     18.105371     26.955271     28.509949   \n",
      "3     28.746637     39.831448     22.197165     28.014904     31.629963   \n",
      "4     29.732880     39.264076     25.652491     27.671047     33.394600   \n",
      "\n",
      "   POW.AF4.Theta  POW.AF4.Alpha  POW.AF4.BetaL  POW.AF4.BetaH  POW.AF4.Gamma  \n",
      "0      89.188812      74.450363     114.057014      35.027874     181.854980  \n",
      "1      71.787697      65.917343     131.252853      42.440384     217.287476  \n",
      "2      62.286003      66.663971     147.840805      51.177460     242.318878  \n",
      "3      57.204304      78.596283     160.071716      59.790451     251.613815  \n",
      "4      56.011410      98.600189     163.823029      67.046783     244.487411  \n",
      "\n",
      "[5 rows x 26 columns]\n"
     ]
    }
   ],
   "source": [
    "file_path = '/Users/arjunasudani/Desktop/brain_bci_dsu_project/extracted_data/eeg/user_a.csv'\n",
    "\n",
    "df = pd.read_csv(file_path)\n",
    "\n",
    "print(df.head())"
   ]
  },
  {
   "cell_type": "code",
   "execution_count": 16,
   "id": "fa520301-dc04-4dce-ab95-3957dbc85f14",
   "metadata": {},
   "outputs": [
    {
     "name": "stdout",
     "output_type": "stream",
     "text": [
      "<class 'pandas.core.frame.DataFrame'>\n",
      "RangeIndex: 15282 entries, 0 to 15281\n",
      "Data columns (total 26 columns):\n",
      " #   Column         Non-Null Count  Dtype  \n",
      "---  ------         --------------  -----  \n",
      " 0   Values         15282 non-null  float64\n",
      " 1   POW.AF3.Theta  15282 non-null  float64\n",
      " 2   POW.AF3.Alpha  15282 non-null  float64\n",
      " 3   POW.AF3.BetaL  15282 non-null  float64\n",
      " 4   POW.AF3.BetaH  15282 non-null  float64\n",
      " 5   POW.AF3.Gamma  15282 non-null  float64\n",
      " 6   POW.T7.Theta   15282 non-null  float64\n",
      " 7   POW.T7.Alpha   15282 non-null  float64\n",
      " 8   POW.T7.BetaL   15282 non-null  float64\n",
      " 9   POW.T7.BetaH   15282 non-null  float64\n",
      " 10  POW.T7.Gamma   15282 non-null  float64\n",
      " 11  POW.Pz.Theta   15282 non-null  float64\n",
      " 12  POW.Pz.Alpha   15282 non-null  float64\n",
      " 13  POW.Pz.BetaL   15282 non-null  float64\n",
      " 14  POW.Pz.BetaH   15282 non-null  float64\n",
      " 15  POW.Pz.Gamma   15282 non-null  float64\n",
      " 16  POW.T8.Theta   15282 non-null  float64\n",
      " 17  POW.T8.Alpha   15282 non-null  float64\n",
      " 18  POW.T8.BetaL   15282 non-null  float64\n",
      " 19  POW.T8.BetaH   15282 non-null  float64\n",
      " 20  POW.T8.Gamma   15282 non-null  float64\n",
      " 21  POW.AF4.Theta  15282 non-null  float64\n",
      " 22  POW.AF4.Alpha  15282 non-null  float64\n",
      " 23  POW.AF4.BetaL  15282 non-null  float64\n",
      " 24  POW.AF4.BetaH  15282 non-null  float64\n",
      " 25  POW.AF4.Gamma  15282 non-null  float64\n",
      "dtypes: float64(26)\n",
      "memory usage: 3.0 MB\n",
      "None\n"
     ]
    }
   ],
   "source": [
    "print(df.info()) "
   ]
  },
  {
   "cell_type": "code",
   "execution_count": 17,
   "id": "3079ecb5-1fda-46ac-90f4-8ac23b2e2be0",
   "metadata": {},
   "outputs": [
    {
     "name": "stdout",
     "output_type": "stream",
     "text": [
      "             Values  POW.AF3.Theta  POW.AF3.Alpha  POW.AF3.BetaL  \\\n",
      "count  15282.000000   15282.000000   15282.000000   15282.000000   \n",
      "mean       0.989007     275.641128     295.669953     211.317840   \n",
      "std        0.820208     581.198901     272.605152     162.662472   \n",
      "min        0.000000      11.111128      10.482314       9.770306   \n",
      "25%        0.000000     111.638224     137.341012     108.927771   \n",
      "50%        1.000000     178.178505     221.104073     170.798210   \n",
      "75%        2.000000     292.483131     367.080078     264.674217   \n",
      "max        2.000000   17666.017578    6095.287109    2427.682617   \n",
      "\n",
      "       POW.AF3.BetaH  POW.AF3.Gamma  POW.T7.Theta  POW.T7.Alpha  POW.T7.BetaL  \\\n",
      "count   15282.000000   15282.000000  15282.000000  15282.000000  15282.000000   \n",
      "mean      210.578262     163.766861    242.827849    267.169240    180.097321   \n",
      "std       111.186466      90.564700    441.135218    304.104237    161.621648   \n",
      "min        25.695267      16.165499     11.805817     15.091495      4.122430   \n",
      "25%       139.503666     111.905674     89.451414    107.835754     88.362530   \n",
      "50%       192.931221     147.791137    144.944176    175.018852    143.829003   \n",
      "75%       259.118706     192.372875    245.732731    299.516426    224.808399   \n",
      "max      1587.710571    1065.477295  11774.806641   7881.771484   2688.726563   \n",
      "\n",
      "       POW.T7.BetaH  ...  POW.T8.Theta  POW.T8.Alpha  POW.T8.BetaL  \\\n",
      "count  15282.000000  ...  15282.000000  15282.000000  15282.000000   \n",
      "mean     171.701926  ...     72.895201     39.443744     25.483356   \n",
      "std      107.929495  ...    681.083439    173.511700     95.465049   \n",
      "min       14.624143  ...      0.000003      0.000000      0.000000   \n",
      "25%      108.033170  ...      6.630158      7.424178      6.123531   \n",
      "50%      151.471260  ...     10.835902     12.257627     10.532611   \n",
      "75%      209.070393  ...     20.195053     21.445551     17.939985   \n",
      "max     1809.549316  ...  26345.796875   5625.630371   3863.484131   \n",
      "\n",
      "       POW.T8.BetaH  POW.T8.Gamma  POW.AF4.Theta  POW.AF4.Alpha  \\\n",
      "count  15282.000000  15282.000000   15282.000000   15282.000000   \n",
      "mean      29.265322     21.253473     280.738603     296.635399   \n",
      "std       51.896607     37.068089     584.910690     263.586781   \n",
      "min        0.000000      0.000005      13.004059      17.103785   \n",
      "25%        8.629707      7.113498     114.020973     138.387333   \n",
      "50%       13.976926      9.576085     183.625320     218.513061   \n",
      "75%       26.167399     17.459184     296.684418     364.454506   \n",
      "max      997.893860    850.612610   16924.259766    5982.326660   \n",
      "\n",
      "       POW.AF4.BetaL  POW.AF4.BetaH  POW.AF4.Gamma  \n",
      "count   15282.000000   15282.000000   15282.000000  \n",
      "mean      208.256413     212.887431     169.029410  \n",
      "std       155.787252     114.544620      97.155041  \n",
      "min         7.802115      28.735771      19.256573  \n",
      "25%       107.654303     137.691597     112.724022  \n",
      "50%       173.220162     194.418671     149.747978  \n",
      "75%       263.908203     262.463646     197.163719  \n",
      "max      2243.265625    1437.919922    1222.559082  \n",
      "\n",
      "[8 rows x 26 columns]\n"
     ]
    }
   ],
   "source": [
    "print(df.describe())"
   ]
  },
  {
   "cell_type": "code",
   "execution_count": 19,
   "id": "122478e1-bd02-42b7-8d59-eeedf30c250d",
   "metadata": {},
   "outputs": [
    {
     "name": "stdout",
     "output_type": "stream",
     "text": [
      "        POW.AF3.Theta  POW.AF3.Alpha  POW.AF3.BetaL  POW.AF3.BetaH  \\\n",
      "Values                                                               \n",
      "0.0        203.620994     287.763283     198.883015     181.152811   \n",
      "1.0        337.881677     314.434600     209.340548     236.333363   \n",
      "2.0        288.514858     285.286151     226.120771     215.516461   \n",
      "\n",
      "        POW.AF3.Gamma  POW.T7.Theta  POW.T7.Alpha  POW.T7.BetaL  POW.T7.BetaH  \\\n",
      "Values                                                                          \n",
      "0.0        138.500005    210.270202    283.911988    183.735305    161.014388   \n",
      "1.0        183.262887    278.535697    269.788263    174.371872    182.245680   \n",
      "2.0        170.596838    241.161735    247.280774    181.999394    172.319607   \n",
      "\n",
      "        POW.T7.Gamma  ...  POW.T8.Theta  POW.T8.Alpha  POW.T8.BetaL  \\\n",
      "Values                ...                                             \n",
      "0.0       118.061488  ...     37.277264     41.898631     26.215123   \n",
      "1.0       166.053354  ...     90.752150     43.510824     25.296222   \n",
      "2.0       154.293450  ...     92.040738     32.886065     24.912302   \n",
      "\n",
      "        POW.T8.BetaH  POW.T8.Gamma  POW.AF4.Theta  POW.AF4.Alpha  \\\n",
      "Values                                                             \n",
      "0.0        39.862644     23.326878     218.779232     289.740362   \n",
      "1.0        28.496388     20.365980     341.407941     307.328414   \n",
      "2.0        19.076210     19.988678     284.770840     293.187010   \n",
      "\n",
      "        POW.AF4.BetaL  POW.AF4.BetaH  POW.AF4.Gamma  \n",
      "Values                                               \n",
      "0.0        196.628288     199.333797     142.642865  \n",
      "1.0        208.306909     226.027237     189.498082  \n",
      "2.0        220.220913     213.899634     176.054590  \n",
      "\n",
      "[3 rows x 25 columns]\n"
     ]
    }
   ],
   "source": [
    "grouped_means = df.groupby('Values').mean()\n",
    "print(grouped_means)\n"
   ]
  },
  {
   "cell_type": "code",
   "execution_count": 23,
   "id": "6c910f5e-53fb-4b82-b3b4-cd52b24caec0",
   "metadata": {},
   "outputs": [
    {
     "name": "stdout",
     "output_type": "stream",
     "text": [
      "Values\n",
      "0.0    5225\n",
      "2.0    5057\n",
      "1.0    5000\n",
      "Name: count, dtype: int64\n"
     ]
    }
   ],
   "source": [
    "print(df['Values'].value_counts())\n"
   ]
  },
  {
   "cell_type": "code",
   "execution_count": 27,
   "id": "ebd496d3-a9bf-4565-909e-c27170540790",
   "metadata": {},
   "outputs": [
    {
     "name": "stdout",
     "output_type": "stream",
     "text": [
      "Index(['POW.AF3.Theta', 'POW.AF3.Alpha', 'POW.AF3.BetaL', 'POW.AF3.BetaH',\n",
      "       'POW.AF3.Gamma', 'POW.T7.Theta', 'POW.T7.Alpha', 'POW.T7.BetaL',\n",
      "       'POW.T7.BetaH', 'POW.T7.Gamma', 'POW.Pz.Theta', 'POW.Pz.Alpha',\n",
      "       'POW.Pz.BetaL', 'POW.Pz.BetaH', 'POW.Pz.Gamma', 'POW.T8.Theta',\n",
      "       'POW.T8.Alpha', 'POW.T8.BetaL', 'POW.T8.BetaH', 'POW.T8.Gamma',\n",
      "       'POW.AF4.Theta', 'POW.AF4.Alpha', 'POW.AF4.BetaL', 'POW.AF4.BetaH',\n",
      "       'POW.AF4.Gamma'],\n",
      "      dtype='object')\n"
     ]
    }
   ],
   "source": [
    "col = df.columns       # .columns gives columns names in data\n",
    "features = col[1:]\n",
    "target='Values'\n",
    "print(features)"
   ]
  },
  {
   "cell_type": "code",
   "execution_count": null,
   "id": "d58951c4-41bf-4ab8-bce6-ec3460197077",
   "metadata": {},
   "outputs": [],
   "source": []
  }
 ],
 "metadata": {
  "kernelspec": {
   "display_name": "Python 3 (ipykernel)",
   "language": "python",
   "name": "python3"
  },
  "language_info": {
   "codemirror_mode": {
    "name": "ipython",
    "version": 3
   },
   "file_extension": ".py",
   "mimetype": "text/x-python",
   "name": "python",
   "nbconvert_exporter": "python",
   "pygments_lexer": "ipython3",
   "version": "3.11.10"
  }
 },
 "nbformat": 4,
 "nbformat_minor": 5
}
