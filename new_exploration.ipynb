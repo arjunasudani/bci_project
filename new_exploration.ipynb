{
 "cells": [
  {
   "cell_type": "code",
   "execution_count": 2,
   "id": "33636199-22ad-458a-bc0d-8579ffcef104",
   "metadata": {},
   "outputs": [],
   "source": [
    "from mpl_toolkits.mplot3d import Axes3D\n",
    "from sklearn.preprocessing import StandardScaler\n",
    "import matplotlib.pyplot as plt # plotting\n",
    "import numpy as np # linear algebra\n",
    "import os # accessing directory structure\n",
    "import pandas as pd # data processing, CSV file I/O (e.g. pd.read_csv)\n",
    "import seaborn as sns"
   ]
  },
  {
   "cell_type": "code",
   "execution_count": 1,
   "id": "8988fbf7-9c73-4d0d-b5db-3daa77bebd5a",
   "metadata": {},
   "outputs": [],
   "source": [
    "import tensorflow as tf\n",
    "from tensorflow.keras.utils import to_categorical\n",
    "from tensorflow.keras import layers\n",
    "import tensorflow as tf\n",
    "import gc\n",
    "gc.enable()"
   ]
  },
  {
   "cell_type": "code",
   "execution_count": 5,
   "id": "514d3433-c416-4c2f-83a9-49040f941cbc",
   "metadata": {},
   "outputs": [
    {
     "name": "stdout",
     "output_type": "stream",
     "text": [
      "Combined training data shape: (51655, 26)\n"
     ]
    }
   ],
   "source": [
    "# Step 1: Import libraries\n",
    "import pandas as pd\n",
    "\n",
    "# Step 2: Load data from CSV files into DataFrames\n",
    "user_a = pd.read_csv('/Users/arjunasudani/Desktop/brain_bci_dsu_project/extracted_data/eeg/user_a.csv')\n",
    "user_b = pd.read_csv('/Users/arjunasudani/Desktop/brain_bci_dsu_project/extracted_data/eeg/user_b.csv')\n",
    "user_c = pd.read_csv('/Users/arjunasudani/Desktop/brain_bci_dsu_project/extracted_data/eeg/user_c.csv')\n",
    "\n",
    "# Step 3: Combine the DataFrames into one\n",
    "train_data = pd.concat([user_a, user_b, user_c], axis=0, ignore_index=True)\n",
    "\n",
    "# Step 4: Display the combined DataFrame shape\n",
    "print(f\"Combined training data shape: {train_data.shape}\")\n",
    "\n",
    "# Step 5: Optionally save the combined DataFrame to a CSV file\n",
    "train_data.to_csv(\"train_data.csv\", index=False)\n"
   ]
  },
  {
   "cell_type": "code",
   "execution_count": 10,
   "id": "c0c91b60-413d-496f-be9f-1e4d2f06234e",
   "metadata": {},
   "outputs": [
    {
     "name": "stdout",
     "output_type": "stream",
     "text": [
      "Shuffled training data shape: (51655, 26)\n"
     ]
    }
   ],
   "source": [
    "# Randomizing order of training data because to ensure no bias during training\n",
    "# Step 1: Randomize the order of rows in the DataFrame\n",
    "train_data = train_data.sample(frac=1, random_state=42).reset_index(drop=True)\n",
    "\n",
    "# Step 2: Display the shape of the shuffled DataFrame (optional)\n",
    "print(f\"Shuffled training data shape: {train_data.shape}\")\n",
    "\n",
    "# Step 3: Save the randomized DataFrame to a new CSV file (optional)\n",
    "train_data.to_csv(\"shuffled_train_data.csv\", index=False)\n"
   ]
  },
  {
   "cell_type": "code",
   "execution_count": 1,
   "id": "c60e0ed7-4d78-44a9-b08d-da1f47f1d4bc",
   "metadata": {},
   "outputs": [
    {
     "ename": "ModuleNotFoundError",
     "evalue": "No module named 'umap'",
     "output_type": "error",
     "traceback": [
      "\u001b[0;31m---------------------------------------------------------------------------\u001b[0m",
      "\u001b[0;31mModuleNotFoundError\u001b[0m                       Traceback (most recent call last)",
      "Cell \u001b[0;32mIn[1], line 3\u001b[0m\n\u001b[1;32m      1\u001b[0m \u001b[38;5;66;03m# Step 1: Import necessary libraries\u001b[39;00m\n\u001b[1;32m      2\u001b[0m \u001b[38;5;28;01mimport\u001b[39;00m \u001b[38;5;21;01mpandas\u001b[39;00m \u001b[38;5;28;01mas\u001b[39;00m \u001b[38;5;21;01mpd\u001b[39;00m\n\u001b[0;32m----> 3\u001b[0m \u001b[38;5;28;01mimport\u001b[39;00m \u001b[38;5;21;01mumap\u001b[39;00m\n\u001b[1;32m      4\u001b[0m \u001b[38;5;28;01mimport\u001b[39;00m \u001b[38;5;21;01mmatplotlib\u001b[39;00m\u001b[38;5;21;01m.\u001b[39;00m\u001b[38;5;21;01mpyplot\u001b[39;00m \u001b[38;5;28;01mas\u001b[39;00m \u001b[38;5;21;01mplt\u001b[39;00m\n\u001b[1;32m      6\u001b[0m \u001b[38;5;66;03m# Step 2: Load the combined training data (already shuffled and prepared)\u001b[39;00m\n",
      "\u001b[0;31mModuleNotFoundError\u001b[0m: No module named 'umap'"
     ]
    }
   ],
   "source": [
    "# Step 1: Import necessary libraries\n",
    "import pandas as pd\n",
    "import umap\n",
    "import matplotlib.pyplot as plt\n",
    "\n",
    "# Step 2: Load the combined training data (already shuffled and prepared)\n",
    "train_data = pd.read_csv(\"shuffled_train_data.csv\")\n",
    "\n",
    "# Step 3: Separate class labels and features\n",
    "# Class labels: First column\n",
    "# Features: All remaining columns\n",
    "class_labels = train_data.iloc[:, 0]\n",
    "features = train_data.iloc[:, 1:]\n",
    "\n",
    "# Step 4: Perform UMAP dimensionality reduction to 2D\n",
    "# Exploring: Can UMAP reduce the 25-dimensional data to 2D while retaining meaningful structure?\n",
    "umap_2d = umap.UMAP(n_components=2, random_state=42)\n",
    "embedding_2d = umap_2d.fit_transform(features)\n",
    "\n",
    "# Step 5: Visualize clusters by class\n",
    "# Exploring: Are the three classes (0, 1, 2) well-separated in the reduced 2D space?\n",
    "plt.figure(figsize=(10, 7))\n",
    "scatter = plt.scatter(embedding_2d[:, 0], embedding_2d[:, 1], c=class_labels, cmap='viridis', s=10)\n",
    "plt.colorbar(scatter, label='Class Labels (0: Left, 1: Right, 2: No Movement)')\n",
    "plt.title('UMAP Projection: Clusters by Class')\n",
    "plt.xlabel('UMAP Dimension 1')\n",
    "plt.ylabel('UMAP Dimension 2')\n",
    "plt.show()\n",
    "\n",
    "# Step 6: (Optional) Add a \"user\" column to the data for user-specific visualization\n",
    "# Exploring: Do the users (a, b, c) have distinct patterns in the reduced space?\n",
    "# Assume 'user' is a pre-existing column that denotes user origin; if not, you may need to add it\n",
    "train_data['user'] = ['a'] * len(user_a) + ['b'] * len(user_b) + ['c'] * len(user_c)\n",
    "user_labels = train_data['user']\n",
    "\n",
    "# Step 7: Visualize clusters by user\n",
    "# Exploring: Are there distinct clusters corresponding to each user's data?\n",
    "plt.figure(figsize=(10, 7))\n",
    "scatter = plt.scatter(embedding_2d[:, 0], embedding_2d[:, 1], c=user_labels.map({'a': 0, 'b': 1, 'c': 2}), cmap='tab10', s=10)\n",
    "plt.colorbar(scatter, label='User Labels (0: User A, 1: User B, 2: User C)')\n",
    "plt.title('UMAP Projection: Clusters by User')\n",
    "plt.xlabel('UMAP Dimension 1')\n",
    "plt.ylabel('UMAP Dimension 2')\n",
    "plt.show()\n"
   ]
  },
  {
   "cell_type": "code",
   "execution_count": 2,
   "id": "b1adc0f3-5c94-434c-98f5-060ed32526ca",
   "metadata": {},
   "outputs": [
    {
     "name": "stdout",
     "output_type": "stream",
     "text": [
      "/opt/anaconda3/envs/brain_bci_env/bin/python\n"
     ]
    }
   ],
   "source": [
    "\n"
   ]
  },
  {
   "cell_type": "code",
   "execution_count": null,
   "id": "1f50f02c-f22d-43b0-9a74-7ebbfe199fe0",
   "metadata": {},
   "outputs": [],
   "source": [
    "!pip install umap-learn\n"
   ]
  },
  {
   "cell_type": "code",
   "execution_count": null,
   "id": "77c9bfa0-3e24-40f7-8686-1801cb8ef1d6",
   "metadata": {},
   "outputs": [],
   "source": []
  }
 ],
 "metadata": {
  "kernelspec": {
   "display_name": "Python 3 (ipykernel)",
   "language": "python",
   "name": "python3"
  },
  "language_info": {
   "codemirror_mode": {
    "name": "ipython",
    "version": 3
   },
   "file_extension": ".py",
   "mimetype": "text/x-python",
   "name": "python",
   "nbconvert_exporter": "python",
   "pygments_lexer": "ipython3",
   "version": "3.11.10"
  }
 },
 "nbformat": 4,
 "nbformat_minor": 5
}
